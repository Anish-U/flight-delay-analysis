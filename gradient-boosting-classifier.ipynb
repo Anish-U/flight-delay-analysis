{
 "cells": [
  {
   "cell_type": "code",
   "execution_count": 16,
   "id": "aac5ef0c",
   "metadata": {},
   "outputs": [],
   "source": [
    "from pyspark.sql import SparkSession\n",
    "from pyspark.sql.functions import col\n",
    "from pyspark.sql.functions import when\n",
    "\n",
    "from pyspark.ml.feature import StringIndexer\n",
    "from pyspark.ml.feature import VectorAssembler"
   ]
  },
  {
   "cell_type": "code",
   "execution_count": 17,
   "id": "57233ee5",
   "metadata": {},
   "outputs": [],
   "source": [
    "spark = SparkSession.builder\\\n",
    "                    .appName(\"FlightDelayPrediction\")\\\n",
    "                    .getOrCreate()"
   ]
  },
  {
   "cell_type": "code",
   "execution_count": 18,
   "id": "c644855d",
   "metadata": {},
   "outputs": [
    {
     "name": "stdout",
     "output_type": "stream",
     "text": [
      "root\n",
      " |-- Year: integer (nullable = true)\n",
      " |-- Quarter: integer (nullable = true)\n",
      " |-- Month: integer (nullable = true)\n",
      " |-- DayofMonth: integer (nullable = true)\n",
      " |-- DayOfWeek: integer (nullable = true)\n",
      " |-- FlightDate: date (nullable = true)\n",
      " |-- Marketing_Airline_Network: string (nullable = true)\n",
      " |-- Operated_or_Branded_Code_Share_Partners: string (nullable = true)\n",
      " |-- DOT_ID_Marketing_Airline: integer (nullable = true)\n",
      " |-- IATA_Code_Marketing_Airline: string (nullable = true)\n",
      " |-- Flight_Number_Marketing_Airline: integer (nullable = true)\n",
      " |-- Originally_Scheduled_Code_Share_Airline: string (nullable = true)\n",
      " |-- DOT_ID_Originally_Scheduled_Code_Share_Airline: double (nullable = true)\n",
      " |-- IATA_Code_Originally_Scheduled_Code_Share_Airline: string (nullable = true)\n",
      " |-- Flight_Num_Originally_Scheduled_Code_Share_Airline: double (nullable = true)\n",
      " |-- Operating_Airline : string (nullable = true)\n",
      " |-- DOT_ID_Operating_Airline: integer (nullable = true)\n",
      " |-- IATA_Code_Operating_Airline: string (nullable = true)\n",
      " |-- Tail_Number: string (nullable = true)\n",
      " |-- Flight_Number_Operating_Airline: integer (nullable = true)\n",
      " |-- OriginAirportID: integer (nullable = true)\n",
      " |-- OriginAirportSeqID: integer (nullable = true)\n",
      " |-- OriginCityMarketID: integer (nullable = true)\n",
      " |-- Origin: string (nullable = true)\n",
      " |-- OriginCityName: string (nullable = true)\n",
      " |-- OriginState: string (nullable = true)\n",
      " |-- OriginStateFips: integer (nullable = true)\n",
      " |-- OriginStateName: string (nullable = true)\n",
      " |-- OriginWac: integer (nullable = true)\n",
      " |-- DestAirportID: integer (nullable = true)\n",
      " |-- DestAirportSeqID: integer (nullable = true)\n",
      " |-- DestCityMarketID: integer (nullable = true)\n",
      " |-- Dest: string (nullable = true)\n",
      " |-- DestCityName: string (nullable = true)\n",
      " |-- DestState: string (nullable = true)\n",
      " |-- DestStateFips: integer (nullable = true)\n",
      " |-- DestStateName: string (nullable = true)\n",
      " |-- DestWac: integer (nullable = true)\n",
      " |-- CRSDepTime: integer (nullable = true)\n",
      " |-- DepTime: double (nullable = true)\n",
      " |-- DepDelay: double (nullable = true)\n",
      " |-- DepDelayMinutes: double (nullable = true)\n",
      " |-- DepDel15: double (nullable = true)\n",
      " |-- DepartureDelayGroups: double (nullable = true)\n",
      " |-- DepTimeBlk: string (nullable = true)\n",
      " |-- TaxiOut: double (nullable = true)\n",
      " |-- WheelsOff: double (nullable = true)\n",
      " |-- WheelsOn: double (nullable = true)\n",
      " |-- TaxiIn: double (nullable = true)\n",
      " |-- CRSArrTime: integer (nullable = true)\n",
      " |-- ArrTime: double (nullable = true)\n",
      " |-- ArrDelay: double (nullable = true)\n",
      " |-- ArrDelayMinutes: double (nullable = true)\n",
      " |-- ArrDel15: double (nullable = true)\n",
      " |-- ArrivalDelayGroups: double (nullable = true)\n",
      " |-- ArrTimeBlk: string (nullable = true)\n",
      " |-- Cancelled: double (nullable = true)\n",
      " |-- CancellationCode: string (nullable = true)\n",
      " |-- Diverted: double (nullable = true)\n",
      " |-- CRSElapsedTime: double (nullable = true)\n",
      " |-- ActualElapsedTime: double (nullable = true)\n",
      " |-- AirTime: double (nullable = true)\n",
      " |-- Flights: double (nullable = true)\n",
      " |-- Distance: double (nullable = true)\n",
      " |-- DistanceGroup: integer (nullable = true)\n",
      " |-- CarrierDelay: double (nullable = true)\n",
      " |-- WeatherDelay: double (nullable = true)\n",
      " |-- NASDelay: double (nullable = true)\n",
      " |-- SecurityDelay: double (nullable = true)\n",
      " |-- LateAircraftDelay: double (nullable = true)\n",
      " |-- FirstDepTime: double (nullable = true)\n",
      " |-- TotalAddGTime: double (nullable = true)\n",
      " |-- LongestAddGTime: double (nullable = true)\n",
      " |-- DivAirportLandings: double (nullable = true)\n",
      " |-- DivReachedDest: double (nullable = true)\n",
      " |-- DivActualElapsedTime: double (nullable = true)\n",
      " |-- DivArrDelay: double (nullable = true)\n",
      " |-- DivDistance: double (nullable = true)\n",
      " |-- Div1Airport: string (nullable = true)\n",
      " |-- Div1AirportID: double (nullable = true)\n",
      " |-- Div1AirportSeqID: double (nullable = true)\n",
      " |-- Div1WheelsOn: double (nullable = true)\n",
      " |-- Div1TotalGTime: double (nullable = true)\n",
      " |-- Div1LongestGTime: double (nullable = true)\n",
      " |-- Div1WheelsOff: double (nullable = true)\n",
      " |-- Div1TailNum: string (nullable = true)\n",
      " |-- Div2Airport: string (nullable = true)\n",
      " |-- Div2AirportID: double (nullable = true)\n",
      " |-- Div2AirportSeqID: double (nullable = true)\n",
      " |-- Div2WheelsOn: double (nullable = true)\n",
      " |-- Div2TotalGTime: double (nullable = true)\n",
      " |-- Div2LongestGTime: double (nullable = true)\n",
      " |-- Div2WheelsOff: double (nullable = true)\n",
      " |-- Div2TailNum: string (nullable = true)\n",
      " |-- Div3Airport: string (nullable = true)\n",
      " |-- Div3AirportID: double (nullable = true)\n",
      " |-- Div3AirportSeqID: double (nullable = true)\n",
      " |-- Div3WheelsOn: double (nullable = true)\n",
      " |-- Div3TotalGTime: double (nullable = true)\n",
      " |-- Div3LongestGTime: double (nullable = true)\n",
      " |-- Div3WheelsOff: double (nullable = true)\n",
      " |-- Div3TailNum: string (nullable = true)\n",
      " |-- Div4Airport: string (nullable = true)\n",
      " |-- Div4AirportID: string (nullable = true)\n",
      " |-- Div4AirportSeqID: string (nullable = true)\n",
      " |-- Div4WheelsOn: string (nullable = true)\n",
      " |-- Div4TotalGTime: string (nullable = true)\n",
      " |-- Div4LongestGTime: string (nullable = true)\n",
      " |-- Div4WheelsOff: string (nullable = true)\n",
      " |-- Div4TailNum: string (nullable = true)\n",
      " |-- Div5Airport: string (nullable = true)\n",
      " |-- Div5AirportID: string (nullable = true)\n",
      " |-- Div5AirportSeqID: string (nullable = true)\n",
      " |-- Div5WheelsOn: string (nullable = true)\n",
      " |-- Div5TotalGTime: string (nullable = true)\n",
      " |-- Div5LongestGTime: string (nullable = true)\n",
      " |-- Div5WheelsOff: string (nullable = true)\n",
      " |-- Div5TailNum: string (nullable = true)\n",
      " |-- Duplicate: string (nullable = true)\n",
      " |-- Unnamed: 119: string (nullable = true)\n",
      "\n"
     ]
    }
   ],
   "source": [
    "# Loading dataset\n",
    "df = spark.read.csv(\"PATH_TO_FLIGHT_DATASET\", header=True, inferSchema=True)\n",
    "df.printSchema()"
   ]
  },
  {
   "cell_type": "code",
   "execution_count": 19,
   "id": "956e5f33",
   "metadata": {},
   "outputs": [],
   "source": [
    "# Required columns for the prediction\n",
    "requiredColumns = [\n",
    "    \"DayofMonth\", \"Month\", \"DayOfWeek\", # Flight date details\n",
    "    \"Operating_Airline \", # Airline details\n",
    "    \"Origin\", \"Dest\", # Airport details\n",
    "    \"CRSArrTime\", \"ArrDel15\", \"CRSDepTime\", \"DepDel15\", # Time details\n",
    "]\n",
    "\n",
    "# Dropping rows with missing values in specific columns\n",
    "df = df.dropna(subset=requiredColumns)\n",
    "\n",
    "# Keeping necessary columns and dropping others\n",
    "df = df[requiredColumns]\n",
    "\n",
    "# Renaming columns\n",
    "df = df.withColumnRenamed(\"Operating_Airline \",\"OperatingAirline\")\n",
    "df = df.withColumnRenamed(\"CRSDepTime\",\"ScheduledDepTime\")\n",
    "df = df.withColumnRenamed(\"CRSArrTime\",\"ScheduledArrTime\")\n",
    "\n",
    "# Creating a column that states whether the flight is delayed\n",
    "df = df.withColumn(\"IsDelayed\", when((df[\"ArrDel15\"] == \"1.0\") | (df[\"DepDel15\"] == \"1.0\"), 1.0).otherwise(0.0))"
   ]
  },
  {
   "cell_type": "code",
   "execution_count": 20,
   "id": "c5106bc7",
   "metadata": {},
   "outputs": [
    {
     "name": "stdout",
     "output_type": "stream",
     "text": [
      "root\n",
      " |-- DayofMonth: integer (nullable = true)\n",
      " |-- Month: integer (nullable = true)\n",
      " |-- DayOfWeek: integer (nullable = true)\n",
      " |-- OperatingAirline: string (nullable = true)\n",
      " |-- Origin: string (nullable = true)\n",
      " |-- Dest: string (nullable = true)\n",
      " |-- ScheduledArrTime: integer (nullable = true)\n",
      " |-- ArrDel15: double (nullable = true)\n",
      " |-- ScheduledDepTime: integer (nullable = true)\n",
      " |-- DepDel15: double (nullable = true)\n",
      " |-- IsDelayed: double (nullable = false)\n",
      " |-- OperatingAirlineIndex: double (nullable = false)\n",
      " |-- OriginIndex: double (nullable = false)\n",
      " |-- DestIndex: double (nullable = false)\n",
      " |-- features: vector (nullable = true)\n",
      "\n"
     ]
    }
   ],
   "source": [
    "# Encode categorical variables\n",
    "categoricalCols = [\"OperatingAirline\", \"Origin\", \"Dest\"]\n",
    "indexers = [StringIndexer(inputCol=col, outputCol=col+'Index').fit(df)\n",
    "            for col in categoricalCols]\n",
    "for indexer in indexers:\n",
    "    df = indexer.transform(df)\n",
    "\n",
    "# Select features and target variable\n",
    "featureCols = ['OperatingAirlineIndex', 'OriginIndex', 'DestIndex']\n",
    "\n",
    "assembler = VectorAssembler(inputCols=featureCols, outputCol=\"features\")\n",
    "df = assembler.transform(df)\n",
    "\n",
    "df.printSchema()"
   ]
  },
  {
   "cell_type": "code",
   "execution_count": 21,
   "id": "5b7da31e",
   "metadata": {},
   "outputs": [
    {
     "name": "stdout",
     "output_type": "stream",
     "text": [
      "+-------------+---------+\n",
      "|features     |isDelayed|\n",
      "+-------------+---------+\n",
      "|[7.0,6.0,4.0]|1.0      |\n",
      "|[7.0,6.0,4.0]|0.0      |\n",
      "|[7.0,6.0,4.0]|0.0      |\n",
      "|[7.0,6.0,4.0]|0.0      |\n",
      "|[7.0,6.0,4.0]|1.0      |\n",
      "|[7.0,6.0,4.0]|0.0      |\n",
      "|[7.0,6.0,4.0]|0.0      |\n",
      "|[7.0,6.0,4.0]|0.0      |\n",
      "|[7.0,6.0,4.0]|1.0      |\n",
      "|[7.0,6.0,4.0]|1.0      |\n",
      "|[7.0,6.0,4.0]|1.0      |\n",
      "|[7.0,6.0,4.0]|1.0      |\n",
      "|[7.0,6.0,4.0]|1.0      |\n",
      "|[7.0,6.0,4.0]|1.0      |\n",
      "|[7.0,6.0,4.0]|1.0      |\n",
      "|[7.0,6.0,4.0]|1.0      |\n",
      "|[7.0,6.0,4.0]|1.0      |\n",
      "|[7.0,6.0,4.0]|0.0      |\n",
      "|[7.0,6.0,4.0]|0.0      |\n",
      "|[7.0,6.0,4.0]|1.0      |\n",
      "+-------------+---------+\n",
      "only showing top 20 rows\n",
      "\n"
     ]
    }
   ],
   "source": [
    "model_df = df.select([\"features\", \"isDelayed\"])\n",
    "model_df.show(truncate=False)"
   ]
  },
  {
   "cell_type": "code",
   "execution_count": 22,
   "id": "79a533af",
   "metadata": {},
   "outputs": [
    {
     "name": "stdout",
     "output_type": "stream",
     "text": [
      "5017410\n",
      "2149634\n"
     ]
    }
   ],
   "source": [
    "# Split the dataset into training and testing sets\n",
    "training_df, testing_df = model_df.randomSplit([0.7, 0.3])\n",
    "\n",
    "print(training_df.count())\n",
    "print(testing_df.count())"
   ]
  },
  {
   "cell_type": "code",
   "execution_count": 23,
   "id": "4dd7c9a7",
   "metadata": {},
   "outputs": [],
   "source": [
    "from pyspark.ml.classification import GBTClassifier\n",
    "from pyspark.ml.evaluation import MulticlassClassificationEvaluator\n"
   ]
  },
  {
   "cell_type": "code",
   "execution_count": 27,
   "id": "557d3d50",
   "metadata": {
    "scrolled": true
   },
   "outputs": [
    {
     "name": "stdout",
     "output_type": "stream",
     "text": [
      "Accuracy: 0.7550294608291458\n"
     ]
    }
   ],
   "source": [
    "# Initialize GBTClassifier with increased maxBins\n",
    "gbt = GBTClassifier(labelCol=\"isDelayed\", featuresCol=\"features\", maxIter=10, maxBins=700)\n",
    "gbt_model = gbt.fit(training_df)\n",
    "\n",
    "\n",
    "# Fit the model\n",
    "train_model = gbt_model.transform(training_df)\n",
    "test_model = gbt_model.transform(testing_df)\n",
    "\n",
    "# Make predictions\n",
    "predictions = gbt_model.transform(testing_df)\n",
    "\n",
    "# Evaluate model\n",
    "evaluator = MulticlassClassificationEvaluator(labelCol=\"isDelayed\", predictionCol=\"prediction\", metricName=\"accuracy\")\n",
    "test_accuracy = evaluator.evaluate(predictions)\n",
    "print(\"Accuracy:\", test_accuracy)\n"
   ]
  },
  {
   "cell_type": "code",
   "execution_count": null,
   "id": "231f6125",
   "metadata": {},
   "outputs": [],
   "source": []
  }
 ],
 "metadata": {
  "kernelspec": {
   "display_name": "Python 3",
   "language": "python",
   "name": "python3"
  },
  "language_info": {
   "codemirror_mode": {
    "name": "ipython",
    "version": 3
   },
   "file_extension": ".py",
   "mimetype": "text/x-python",
   "name": "python",
   "nbconvert_exporter": "python",
   "pygments_lexer": "ipython3",
   "version": "3.8.8"
  }
 },
 "nbformat": 4,
 "nbformat_minor": 5
}
