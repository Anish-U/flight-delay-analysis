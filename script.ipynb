{
 "cells": [
  {
   "cell_type": "code",
   "execution_count": 4,
   "id": "83ccbdb6-3580-4dc4-bb74-188880eb4b01",
   "metadata": {},
   "outputs": [
    {
     "name": "stderr",
     "output_type": "stream",
     "text": [
      "/var/folders/jb/19zk4vm95js5g3scs1jj1pzr0000gn/T/ipykernel_23713/275746873.py:20: DtypeWarning: Columns (11,13,86,93,94,101) have mixed types. Specify dtype option on import or set low_memory=False.\n",
      "  df = pd.read_csv(os.path.join(input_folder, file))\n"
     ]
    }
   ],
   "source": [
    "import os\n",
    "import pandas as pd\n",
    "\n",
    "# Function to combine CSV files to single year file\n",
    "def combine_files(input_folder, output_folder):\n",
    "    # Get list of all files in the input folder\n",
    "    files = os.listdir(input_folder)\n",
    "    \n",
    "    # Create a dictionary to store DataFrames for each year\n",
    "    year_dataframes = {}\n",
    "    \n",
    "    # Iterate over each file\n",
    "    for file in files:\n",
    "        # Check if file is a CSV file\n",
    "        if file.endswith(\".csv\") and file.startswith(\"Flights\"):\n",
    "            # Extract year from the file name\n",
    "            year = int(file.split(\"_\")[1])\n",
    "            \n",
    "            # Read CSV file into DataFrame\n",
    "            df = pd.read_csv(os.path.join(input_folder, file))\n",
    "            \n",
    "            # Add DataFrame to dictionary using year as key\n",
    "            if year in year_dataframes:\n",
    "                year_dataframes[year] = pd.concat([year_dataframes[year], df], ignore_index=True)\n",
    "            else:\n",
    "                year_dataframes[year] = df\n",
    "    \n",
    "    # Write DataFrames to CSV files for each year\n",
    "    for year, df in year_dataframes.items():\n",
    "        # Create output folder if it doesn't exist\n",
    "        if not os.path.exists(output_folder):\n",
    "            os.makedirs(output_folder)\n",
    "        \n",
    "        # Write DataFrame to CSV file for the respective year\n",
    "        output_file = os.path.join(output_folder, \"{}.csv\".format(year))\n",
    "        df.to_csv(output_file, index=False)\n",
    "\n",
    "input_folder = \"./raw-data/2023\"  # Path to folder containing input CSV files\n",
    "output_folder = \"./data-set/\"  # Path to folder where output CSV files will be saved\n",
    "\n",
    "combine_files(input_folder, output_folder)\n"
   ]
  },
  {
   "cell_type": "code",
   "execution_count": null,
   "id": "02d6adfb-94e0-4ae1-975d-9b0934322b89",
   "metadata": {},
   "outputs": [],
   "source": []
  }
 ],
 "metadata": {
  "kernelspec": {
   "display_name": "Python 3 (ipykernel)",
   "language": "python",
   "name": "python3"
  },
  "language_info": {
   "codemirror_mode": {
    "name": "ipython",
    "version": 3
   },
   "file_extension": ".py",
   "mimetype": "text/x-python",
   "name": "python",
   "nbconvert_exporter": "python",
   "pygments_lexer": "ipython3",
   "version": "3.12.1"
  }
 },
 "nbformat": 4,
 "nbformat_minor": 5
}
