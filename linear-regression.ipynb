{
 "cells": [
  {
   "cell_type": "code",
   "execution_count": 4,
   "id": "28f6f366-b315-4190-ba45-009aa03ea341",
   "metadata": {
    "execution": {
     "iopub.execute_input": "2024-05-03T06:46:05.662412Z",
     "iopub.status.busy": "2024-05-03T06:46:05.662103Z",
     "iopub.status.idle": "2024-05-03T06:46:05.720342Z",
     "shell.execute_reply": "2024-05-03T06:46:05.719520Z",
     "shell.execute_reply.started": "2024-05-03T06:46:05.662387Z"
    },
    "tags": []
   },
   "outputs": [],
   "source": [
    "from pyspark.sql import SparkSession\n",
    "from pyspark.sql.functions import col\n",
    "from pyspark.sql.functions import when\n",
    "\n",
    "from pyspark.ml.feature import StringIndexer\n",
    "from pyspark.ml.feature import VectorAssembler\n",
    "from pyspark.ml.regression import LinearRegression\n",
    "from pyspark.ml.evaluation import RegressionEvaluator"
   ]
  },
  {
   "cell_type": "code",
   "execution_count": 5,
   "id": "d6e36897-6471-4994-a734-1837874a2f53",
   "metadata": {
    "execution": {
     "iopub.execute_input": "2024-05-03T05:40:29.324235Z",
     "iopub.status.busy": "2024-05-03T05:40:29.323896Z",
     "iopub.status.idle": "2024-05-03T05:40:29.387009Z",
     "shell.execute_reply": "2024-05-03T05:40:29.385991Z",
     "shell.execute_reply.started": "2024-05-03T05:40:29.324205Z"
    }
   },
   "outputs": [],
   "source": [
    "spark = SparkSession.builder\\\n",
    "                    .appName(\"FlightDelayPrediction\")\\\n",
    "                    .getOrCreate()"
   ]
  },
  {
   "cell_type": "code",
   "execution_count": 7,
   "id": "87ed13b3-3bd0-4787-848c-88b58451d7c0",
   "metadata": {
    "execution": {
     "iopub.execute_input": "2024-05-03T06:46:09.549636Z",
     "iopub.status.busy": "2024-05-03T06:46:09.549332Z",
     "iopub.status.idle": "2024-05-03T06:46:24.868202Z",
     "shell.execute_reply": "2024-05-03T06:46:24.867344Z",
     "shell.execute_reply.started": "2024-05-03T06:46:09.549612Z"
    },
    "tags": []
   },
   "outputs": [
    {
     "name": "stdout",
     "output_type": "stream",
     "text": [
      "root\n",
      " |-- Year: integer (nullable = true)\n",
      " |-- Quarter: integer (nullable = true)\n",
      " |-- Month: integer (nullable = true)\n",
      " |-- DayofMonth: integer (nullable = true)\n",
      " |-- DayOfWeek: integer (nullable = true)\n",
      " |-- FlightDate: date (nullable = true)\n",
      " |-- Marketing_Airline_Network: string (nullable = true)\n",
      " |-- Operated_or_Branded_Code_Share_Partners: string (nullable = true)\n",
      " |-- DOT_ID_Marketing_Airline: integer (nullable = true)\n",
      " |-- IATA_Code_Marketing_Airline: string (nullable = true)\n",
      " |-- Flight_Number_Marketing_Airline: integer (nullable = true)\n",
      " |-- Originally_Scheduled_Code_Share_Airline: string (nullable = true)\n",
      " |-- DOT_ID_Originally_Scheduled_Code_Share_Airline: double (nullable = true)\n",
      " |-- IATA_Code_Originally_Scheduled_Code_Share_Airline: string (nullable = true)\n",
      " |-- Flight_Num_Originally_Scheduled_Code_Share_Airline: double (nullable = true)\n",
      " |-- Operating_Airline : string (nullable = true)\n",
      " |-- DOT_ID_Operating_Airline: integer (nullable = true)\n",
      " |-- IATA_Code_Operating_Airline: string (nullable = true)\n",
      " |-- Tail_Number: string (nullable = true)\n",
      " |-- Flight_Number_Operating_Airline: integer (nullable = true)\n",
      " |-- OriginAirportID: integer (nullable = true)\n",
      " |-- OriginAirportSeqID: integer (nullable = true)\n",
      " |-- OriginCityMarketID: integer (nullable = true)\n",
      " |-- Origin: string (nullable = true)\n",
      " |-- OriginCityName: string (nullable = true)\n",
      " |-- OriginState: string (nullable = true)\n",
      " |-- OriginStateFips: integer (nullable = true)\n",
      " |-- OriginStateName: string (nullable = true)\n",
      " |-- OriginWac: integer (nullable = true)\n",
      " |-- DestAirportID: integer (nullable = true)\n",
      " |-- DestAirportSeqID: integer (nullable = true)\n",
      " |-- DestCityMarketID: integer (nullable = true)\n",
      " |-- Dest: string (nullable = true)\n",
      " |-- DestCityName: string (nullable = true)\n",
      " |-- DestState: string (nullable = true)\n",
      " |-- DestStateFips: integer (nullable = true)\n",
      " |-- DestStateName: string (nullable = true)\n",
      " |-- DestWac: integer (nullable = true)\n",
      " |-- CRSDepTime: integer (nullable = true)\n",
      " |-- DepTime: double (nullable = true)\n",
      " |-- DepDelay: double (nullable = true)\n",
      " |-- DepDelayMinutes: double (nullable = true)\n",
      " |-- DepDel15: double (nullable = true)\n",
      " |-- DepartureDelayGroups: double (nullable = true)\n",
      " |-- DepTimeBlk: string (nullable = true)\n",
      " |-- TaxiOut: double (nullable = true)\n",
      " |-- WheelsOff: double (nullable = true)\n",
      " |-- WheelsOn: double (nullable = true)\n",
      " |-- TaxiIn: double (nullable = true)\n",
      " |-- CRSArrTime: integer (nullable = true)\n",
      " |-- ArrTime: double (nullable = true)\n",
      " |-- ArrDelay: double (nullable = true)\n",
      " |-- ArrDelayMinutes: double (nullable = true)\n",
      " |-- ArrDel15: double (nullable = true)\n",
      " |-- ArrivalDelayGroups: double (nullable = true)\n",
      " |-- ArrTimeBlk: string (nullable = true)\n",
      " |-- Cancelled: double (nullable = true)\n",
      " |-- CancellationCode: string (nullable = true)\n",
      " |-- Diverted: double (nullable = true)\n",
      " |-- CRSElapsedTime: double (nullable = true)\n",
      " |-- ActualElapsedTime: double (nullable = true)\n",
      " |-- AirTime: double (nullable = true)\n",
      " |-- Flights: double (nullable = true)\n",
      " |-- Distance: double (nullable = true)\n",
      " |-- DistanceGroup: integer (nullable = true)\n",
      " |-- CarrierDelay: double (nullable = true)\n",
      " |-- WeatherDelay: double (nullable = true)\n",
      " |-- NASDelay: double (nullable = true)\n",
      " |-- SecurityDelay: double (nullable = true)\n",
      " |-- LateAircraftDelay: double (nullable = true)\n",
      " |-- FirstDepTime: double (nullable = true)\n",
      " |-- TotalAddGTime: double (nullable = true)\n",
      " |-- LongestAddGTime: double (nullable = true)\n",
      " |-- DivAirportLandings: double (nullable = true)\n",
      " |-- DivReachedDest: double (nullable = true)\n",
      " |-- DivActualElapsedTime: double (nullable = true)\n",
      " |-- DivArrDelay: double (nullable = true)\n",
      " |-- DivDistance: double (nullable = true)\n",
      " |-- Div1Airport: string (nullable = true)\n",
      " |-- Div1AirportID: double (nullable = true)\n",
      " |-- Div1AirportSeqID: double (nullable = true)\n",
      " |-- Div1WheelsOn: double (nullable = true)\n",
      " |-- Div1TotalGTime: double (nullable = true)\n",
      " |-- Div1LongestGTime: double (nullable = true)\n",
      " |-- Div1WheelsOff: double (nullable = true)\n",
      " |-- Div1TailNum: string (nullable = true)\n",
      " |-- Div2Airport: string (nullable = true)\n",
      " |-- Div2AirportID: double (nullable = true)\n",
      " |-- Div2AirportSeqID: double (nullable = true)\n",
      " |-- Div2WheelsOn: double (nullable = true)\n",
      " |-- Div2TotalGTime: double (nullable = true)\n",
      " |-- Div2LongestGTime: double (nullable = true)\n",
      " |-- Div2WheelsOff: double (nullable = true)\n",
      " |-- Div2TailNum: string (nullable = true)\n",
      " |-- Div3Airport: string (nullable = true)\n",
      " |-- Div3AirportID: double (nullable = true)\n",
      " |-- Div3AirportSeqID: double (nullable = true)\n",
      " |-- Div3WheelsOn: double (nullable = true)\n",
      " |-- Div3TotalGTime: double (nullable = true)\n",
      " |-- Div3LongestGTime: double (nullable = true)\n",
      " |-- Div3WheelsOff: double (nullable = true)\n",
      " |-- Div3TailNum: string (nullable = true)\n",
      " |-- Div4Airport: string (nullable = true)\n",
      " |-- Div4AirportID: string (nullable = true)\n",
      " |-- Div4AirportSeqID: string (nullable = true)\n",
      " |-- Div4WheelsOn: string (nullable = true)\n",
      " |-- Div4TotalGTime: string (nullable = true)\n",
      " |-- Div4LongestGTime: string (nullable = true)\n",
      " |-- Div4WheelsOff: string (nullable = true)\n",
      " |-- Div4TailNum: string (nullable = true)\n",
      " |-- Div5Airport: string (nullable = true)\n",
      " |-- Div5AirportID: string (nullable = true)\n",
      " |-- Div5AirportSeqID: string (nullable = true)\n",
      " |-- Div5WheelsOn: string (nullable = true)\n",
      " |-- Div5TotalGTime: string (nullable = true)\n",
      " |-- Div5LongestGTime: string (nullable = true)\n",
      " |-- Div5WheelsOff: string (nullable = true)\n",
      " |-- Div5TailNum: string (nullable = true)\n",
      " |-- Duplicate: string (nullable = true)\n",
      " |-- Unnamed: 119: string (nullable = true)\n",
      "\n"
     ]
    }
   ],
   "source": [
    "# Loading dataset\n",
    "df = spark.read.csv(\"PATH_TO_FLIGHT_DATASET\", header=True, inferSchema=True)\n",
    "df.printSchema()"
   ]
  },
  {
   "cell_type": "code",
   "execution_count": 8,
   "id": "355ffb94-8a31-4cff-b52c-05e55d63a7ad",
   "metadata": {
    "execution": {
     "iopub.execute_input": "2024-05-03T06:46:54.771765Z",
     "iopub.status.busy": "2024-05-03T06:46:54.771449Z",
     "iopub.status.idle": "2024-05-03T06:46:55.020408Z",
     "shell.execute_reply": "2024-05-03T06:46:55.019502Z",
     "shell.execute_reply.started": "2024-05-03T06:46:54.771739Z"
    },
    "tags": []
   },
   "outputs": [],
   "source": [
    "# Required columns for the prediction\n",
    "requiredColumns = [\n",
    "    \"DayofMonth\", \"Month\", \"DayOfWeek\", # Flight date details\n",
    "    \"Operating_Airline \", # Airline details\n",
    "    \"Origin\", \"Dest\", # Airport details\n",
    "    \"CRSArrTime\", \"ArrDel15\", \"CRSDepTime\", \"DepDel15\", # Time details\n",
    "]\n",
    "\n",
    "# Dropping rows with missing values in specific columns\n",
    "df = df.dropna(subset=requiredColumns)\n",
    "\n",
    "# Keeping necessary columns and dropping others\n",
    "df = df[requiredColumns]\n",
    "\n",
    "# Renaming columns\n",
    "df = df.withColumnRenamed(\"Operating_Airline \",\"OperatingAirline\")\n",
    "df = df.withColumnRenamed(\"CRSDepTime\",\"ScheduledDepTime\")\n",
    "df = df.withColumnRenamed(\"CRSArrTime\",\"ScheduledArrTime\")\n",
    "\n",
    "# Creating a column that states whether the flight is delayed\n",
    "df = df.withColumn(\"IsDelayed\", when((df[\"ArrDel15\"] == \"1.0\") | (df[\"DepDel15\"] == \"1.0\"), 1.0).otherwise(0.0))\n"
   ]
  },
  {
   "cell_type": "code",
   "execution_count": 10,
   "id": "b20e478c-986e-4e68-9a6b-2434d897be7a",
   "metadata": {
    "execution": {
     "iopub.execute_input": "2024-05-03T07:17:09.089582Z",
     "iopub.status.busy": "2024-05-03T07:17:09.089269Z",
     "iopub.status.idle": "2024-05-03T07:17:09.337492Z",
     "shell.execute_reply": "2024-05-03T07:17:09.336591Z",
     "shell.execute_reply.started": "2024-05-03T07:17:09.089556Z"
    },
    "tags": []
   },
   "outputs": [
    {
     "name": "stdout",
     "output_type": "stream",
     "text": [
      "root\n",
      " |-- DayofMonth: integer (nullable = true)\n",
      " |-- Month: integer (nullable = true)\n",
      " |-- DayOfWeek: integer (nullable = true)\n",
      " |-- OperatingAirline: string (nullable = true)\n",
      " |-- Origin: string (nullable = true)\n",
      " |-- Dest: string (nullable = true)\n",
      " |-- ScheduledArrTime: integer (nullable = true)\n",
      " |-- ArrDel15: double (nullable = true)\n",
      " |-- ScheduledDepTime: integer (nullable = true)\n",
      " |-- DepDel15: double (nullable = true)\n",
      " |-- IsDelayed: double (nullable = false)\n",
      " |-- OperatingAirlineIndex: double (nullable = false)\n",
      " |-- OriginIndex: double (nullable = false)\n",
      " |-- DestIndex: double (nullable = false)\n",
      " |-- features2: vector (nullable = true)\n",
      "\n"
     ]
    }
   ],
   "source": [
    "# Encode categorical variables\n",
    "categoricalCols = [\"OperatingAirline\", \"Origin\", \"Dest\"]\n",
    "indexers = [StringIndexer(inputCol=col, outputCol=col+'Index').fit(df)\n",
    "           for col in categoricalCols]\n",
    "for indexer in indexers:\n",
    "    df = indexer.transform(df)\n",
    "\n",
    "# Select features and target variable\n",
    "featureCols = ['OperatingAirlineIndex', 'OriginIndex', 'DestIndex']\n",
    "\n",
    "assembler = VectorAssembler(inputCols=featureCols, outputCol=\"features2\")\n",
    "df = assembler.transform(df)\n",
    "\n",
    "df.printSchema()"
   ]
  },
  {
   "cell_type": "code",
   "execution_count": 11,
   "id": "e6119ef0-2f3b-4085-b7b8-b264a4458506",
   "metadata": {
    "execution": {
     "iopub.execute_input": "2024-05-03T06:49:08.627187Z",
     "iopub.status.busy": "2024-05-03T06:49:08.626866Z",
     "iopub.status.idle": "2024-05-03T06:49:19.933015Z",
     "shell.execute_reply": "2024-05-03T06:49:19.932016Z",
     "shell.execute_reply.started": "2024-05-03T06:49:08.627160Z"
    },
    "tags": []
   },
   "outputs": [
    {
     "name": "stdout",
     "output_type": "stream",
     "text": [
      "+-------------+---------+\n",
      "|features2    |isDelayed|\n",
      "+-------------+---------+\n",
      "|[7.0,6.0,4.0]|1.0      |\n",
      "|[7.0,6.0,4.0]|0.0      |\n",
      "|[7.0,6.0,4.0]|0.0      |\n",
      "|[7.0,6.0,4.0]|0.0      |\n",
      "|[7.0,6.0,4.0]|1.0      |\n",
      "|[7.0,6.0,4.0]|0.0      |\n",
      "|[7.0,6.0,4.0]|0.0      |\n",
      "|[7.0,6.0,4.0]|0.0      |\n",
      "|[7.0,6.0,4.0]|1.0      |\n",
      "|[7.0,6.0,4.0]|1.0      |\n",
      "|[7.0,6.0,4.0]|1.0      |\n",
      "|[7.0,6.0,4.0]|1.0      |\n",
      "|[7.0,6.0,4.0]|1.0      |\n",
      "|[7.0,6.0,4.0]|1.0      |\n",
      "|[7.0,6.0,4.0]|1.0      |\n",
      "|[7.0,6.0,4.0]|1.0      |\n",
      "|[7.0,6.0,4.0]|1.0      |\n",
      "|[7.0,6.0,4.0]|0.0      |\n",
      "|[7.0,6.0,4.0]|0.0      |\n",
      "|[7.0,6.0,4.0]|1.0      |\n",
      "+-------------+---------+\n",
      "only showing top 20 rows\n",
      "\n"
     ]
    }
   ],
   "source": [
    "model_df = df.select([\"features2\", \"isDelayed\"])\n",
    "model_df.show(truncate=False)"
   ]
  },
  {
   "cell_type": "code",
   "execution_count": 12,
   "id": "47391e82-4606-405b-a69b-d400e984164b",
   "metadata": {
    "execution": {
     "iopub.execute_input": "2024-05-03T06:49:24.826701Z",
     "iopub.status.busy": "2024-05-03T06:49:24.826243Z",
     "iopub.status.idle": "2024-05-03T06:49:36.132436Z",
     "shell.execute_reply": "2024-05-03T06:49:36.131691Z",
     "shell.execute_reply.started": "2024-05-03T06:49:24.826656Z"
    },
    "tags": []
   },
   "outputs": [
    {
     "name": "stdout",
     "output_type": "stream",
     "text": [
      "5017743\n",
      "2149301\n"
     ]
    }
   ],
   "source": [
    "# Split the dataset into training and testing sets\n",
    "training_df, testing_df = model_df.randomSplit([0.7, 0.3])\n",
    "\n",
    "print(training_df.count())\n",
    "print(testing_df.count())"
   ]
  },
  {
   "cell_type": "code",
   "execution_count": 14,
   "id": "5cfc8ca3-2375-4290-8876-9e51dc7ad13e",
   "metadata": {
    "execution": {
     "iopub.execute_input": "2024-05-03T06:50:56.361281Z",
     "iopub.status.busy": "2024-05-03T06:50:56.360815Z",
     "iopub.status.idle": "2024-05-03T06:51:09.692909Z",
     "shell.execute_reply": "2024-05-03T06:51:09.691982Z",
     "shell.execute_reply.started": "2024-05-03T06:50:56.361239Z"
    },
    "tags": []
   },
   "outputs": [
    {
     "name": "stdout",
     "output_type": "stream",
     "text": [
      "Training R^2 Score: 0.00293397229804071\n",
      "Testing R^2 Score: 0.002859896629911929\n"
     ]
    }
   ],
   "source": [
    "# Train the linear regression model\n",
    "lr = LinearRegression(featuresCol='features2', labelCol='isDelayed')\n",
    "lr_model = lr.fit(training_df)\n",
    "\n",
    "# Evaluate the model\n",
    "train_predictions = lr_model.transform(training_df)\n",
    "test_predictions = lr_model.transform(testing_df)\n",
    "\n",
    "evaluator = RegressionEvaluator(\n",
    "    labelCol=\"isDelayed\", predictionCol=\"prediction\", metricName=\"r2\")\n",
    "train_r2 = evaluator.evaluate(train_predictions)\n",
    "test_r2 = evaluator.evaluate(test_predictions)\n",
    "\n",
    "print(\"Training R^2 Score:\", train_r2)\n",
    "print(\"Testing R^2 Score:\", test_r2)"
   ]
  },
  {
   "cell_type": "code",
   "execution_count": 16,
   "id": "6a1b821a-662d-4927-9de6-f70db7e0df03",
   "metadata": {
    "execution": {
     "iopub.execute_input": "2024-05-03T06:58:59.741663Z",
     "iopub.status.busy": "2024-05-03T06:58:59.741347Z",
     "iopub.status.idle": "2024-05-03T06:59:19.070263Z",
     "shell.execute_reply": "2024-05-03T06:59:19.069528Z",
     "shell.execute_reply.started": "2024-05-03T06:58:59.741637Z"
    },
    "tags": []
   },
   "outputs": [],
   "source": [
    "regressor = LinearRegression(featuresCol='features2', labelCol='isDelayed')\n",
    "regressor = regressor.fit(training_df)\n"
   ]
  },
  {
   "cell_type": "code",
   "execution_count": 17,
   "id": "b2f0ae2e-bd6a-4760-8f92-94a6c8f1d208",
   "metadata": {
    "execution": {
     "iopub.execute_input": "2024-05-03T07:06:16.168409Z",
     "iopub.status.busy": "2024-05-03T07:06:16.168055Z",
     "iopub.status.idle": "2024-05-03T07:06:23.487962Z",
     "shell.execute_reply": "2024-05-03T07:06:23.487093Z",
     "shell.execute_reply.started": "2024-05-03T07:06:16.168379Z"
    },
    "tags": []
   },
   "outputs": [
    {
     "name": "stdout",
     "output_type": "stream",
     "text": [
      "+-------------+---------+------------------+\n",
      "|    features2|isDelayed|        prediction|\n",
      "+-------------+---------+------------------+\n",
      "|[1.0,0.0,1.0]|      0.0|0.2691172897964861|\n",
      "|[1.0,0.0,1.0]|      0.0|0.2691172897964861|\n",
      "|[1.0,0.0,1.0]|      0.0|0.2691172897964861|\n",
      "|[1.0,0.0,1.0]|      0.0|0.2691172897964861|\n",
      "|[1.0,0.0,1.0]|      0.0|0.2691172897964861|\n",
      "|[1.0,0.0,1.0]|      0.0|0.2691172897964861|\n",
      "|[1.0,0.0,1.0]|      0.0|0.2691172897964861|\n",
      "|[1.0,0.0,1.0]|      0.0|0.2691172897964861|\n",
      "|[1.0,0.0,1.0]|      0.0|0.2691172897964861|\n",
      "|[1.0,0.0,1.0]|      0.0|0.2691172897964861|\n",
      "|[1.0,0.0,1.0]|      0.0|0.2691172897964861|\n",
      "|[1.0,0.0,1.0]|      0.0|0.2691172897964861|\n",
      "|[1.0,0.0,1.0]|      0.0|0.2691172897964861|\n",
      "|[1.0,0.0,1.0]|      0.0|0.2691172897964861|\n",
      "|[1.0,0.0,1.0]|      0.0|0.2691172897964861|\n",
      "|[1.0,0.0,1.0]|      0.0|0.2691172897964861|\n",
      "|[1.0,0.0,1.0]|      0.0|0.2691172897964861|\n",
      "|[1.0,0.0,1.0]|      0.0|0.2691172897964861|\n",
      "|[1.0,0.0,1.0]|      0.0|0.2691172897964861|\n",
      "|[1.0,0.0,1.0]|      0.0|0.2691172897964861|\n",
      "|[1.0,0.0,1.0]|      0.0|0.2691172897964861|\n",
      "|[1.0,0.0,1.0]|      0.0|0.2691172897964861|\n",
      "|[1.0,0.0,1.0]|      0.0|0.2691172897964861|\n",
      "|[1.0,0.0,1.0]|      0.0|0.2691172897964861|\n",
      "|[1.0,0.0,1.0]|      0.0|0.2691172897964861|\n",
      "|[1.0,0.0,1.0]|      0.0|0.2691172897964861|\n",
      "|[1.0,0.0,1.0]|      0.0|0.2691172897964861|\n",
      "|[1.0,0.0,1.0]|      0.0|0.2691172897964861|\n",
      "|[1.0,0.0,1.0]|      0.0|0.2691172897964861|\n",
      "|[1.0,0.0,1.0]|      0.0|0.2691172897964861|\n",
      "+-------------+---------+------------------+\n",
      "only showing top 30 rows\n",
      "\n"
     ]
    }
   ],
   "source": [
    "pred_results = regressor.evaluate(testing_df)\n",
    "pred_results.predictions.show(30)"
   ]
  },
  {
   "cell_type": "code",
   "execution_count": 18,
   "id": "40f37e37-0046-40a6-8138-b55d7c535814",
   "metadata": {
    "execution": {
     "iopub.execute_input": "2024-05-03T07:02:03.654045Z",
     "iopub.status.busy": "2024-05-03T07:02:03.653732Z",
     "iopub.status.idle": "2024-05-03T07:02:03.701001Z",
     "shell.execute_reply": "2024-05-03T07:02:03.700240Z",
     "shell.execute_reply.started": "2024-05-03T07:02:03.654020Z"
    }
   },
   "outputs": [
    {
     "data": {
      "text/plain": [
       "(0.36882295429174566, 0.18435445143862492, 0.002859896629911929)"
      ]
     },
     "execution_count": 18,
     "metadata": {},
     "output_type": "execute_result"
    }
   ],
   "source": [
    "pred_results.meanAbsoluteError, pred_results.meanSquaredError, pred_results.r2"
   ]
  },
  {
   "cell_type": "code",
   "execution_count": null,
   "id": "17bc1ffe",
   "metadata": {},
   "outputs": [],
   "source": []
  }
 ],
 "metadata": {
  "kernelspec": {
   "display_name": "Python 3",
   "language": "python",
   "name": "python3"
  },
  "language_info": {
   "codemirror_mode": {
    "name": "ipython",
    "version": 3
   },
   "file_extension": ".py",
   "mimetype": "text/x-python",
   "name": "python",
   "nbconvert_exporter": "python",
   "pygments_lexer": "ipython3",
   "version": "3.8.8"
  }
 },
 "nbformat": 4,
 "nbformat_minor": 5
}
